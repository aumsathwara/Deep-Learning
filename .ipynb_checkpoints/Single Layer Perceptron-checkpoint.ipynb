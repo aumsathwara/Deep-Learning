{
 "cells": [
  {
   "cell_type": "code",
   "execution_count": 22,
   "id": "d821488f",
   "metadata": {},
   "outputs": [],
   "source": [
    "# Importing Libraries\n",
    "import numpy as np\n",
    "import tensorflow as tf\n",
    "from tensorflow import keras\n",
    "import matplotlib.pyplot as plt"
   ]
  },
  {
   "cell_type": "code",
   "execution_count": 3,
   "id": "f82eef3d",
   "metadata": {},
   "outputs": [],
   "source": [
    "# Importing MNIST datset\n",
    "dataset = keras.datasets.mnist.load_data() #returns (x_train, y_train), (x_test, y_test)\n",
    "(x_train, y_train), (x_test, y_test) = dataset"
   ]
  },
  {
   "cell_type": "code",
   "execution_count": 26,
   "id": "1db90a80",
   "metadata": {},
   "outputs": [
    {
     "data": {
      "image/png": "[encoded data removed]",
      "text/plain": [
       "<Figure size 288x288 with 1 Axes>"
      ]
     },
     "metadata": {
      "needs_background": "light"
     },
     "output_type": "display_data"
    }
   ],
   "source": [
    "# Visualizing 1st row from training dataset\n",
    "plt.matshow(x_train[0])\n",
    "plt.show()"
   ]
  },
  {
   "cell_type": "code",
   "execution_count": 27,
   "id": "a8a065fd",
   "metadata": {},
   "outputs": [],
   "source": [
    "# Normalizing Datset \n",
    "x_train = x_train/255 # 255 indicates range of possible value of pixel\n",
    "x_test = x_test/255"
   ]
  },
  {
   "cell_type": "code",
   "execution_count": 28,
   "id": "e256a443",
   "metadata": {},
   "outputs": [],
   "source": [
    "# Flattening train and test dataset to 2D array\n",
    "x_train_flatten = x_train.reshape(len(x_train),28*28) # (60000, 28, 28) - > (60000, 784)\n",
    "x_test_flatten = x_test.reshape(len(x_test),28*28) # (10000, 28, 28) -> (10000, 784)"
   ]
  },
  {
   "cell_type": "code",
   "execution_count": 36,
   "id": "e949ab84",
   "metadata": {},
   "outputs": [],
   "source": [
    "def customGenerator(x_train, y_train, batch_size):\n",
    "    \"\"\"\n",
    "    Custom data generator that yields batches of features and labels from the input data.\n",
    "\n",
    "    Args:\n",
    "    - x_train (numpy array): The input features.\n",
    "    - y_train (numpy array): The corresponding labels.\n",
    "    - batch_size (int): The batch size.\n",
    "\n",
    "    Yields:\n",
    "    - tuple: A tuple containing a batch of features and labels.\n",
    "    \"\"\"\n",
    "    num_samples = len(x_train) # Total number of samples in the dataset\n",
    "    while True:    \n",
    "        for i in range(0, num_samples, batch_size): # Iterate over the dataset in batches\n",
    "            # Yield a batch of features and labels\n",
    "            yield x_train[i:i+batch_size], y_train[i:i+batch_size]"
   ]
  },
  {
   "cell_type": "code",
   "execution_count": 47,
   "id": "37514ce7",
   "metadata": {},
   "outputs": [],
   "source": [
    "batch_size = 2\n",
    "train_generator = customGenerator(x_train_flatten, y_train, batch_size)"
   ]
  },
  {
   "cell_type": "code",
   "execution_count": 58,
   "id": "84757eb0",
   "metadata": {},
   "outputs": [],
   "source": [
    "# Dictionary to store metrics\n",
    "metrics = {'loss': [],  'accuracy': []}"
   ]
  },
  {
   "cell_type": "code",
   "execution_count": 59,
   "id": "5d6074e7",
   "metadata": {},
   "outputs": [],
   "source": [
    "# Perceptron \n",
    "with tf.device('/GPU:0'): # To run model on GPU\n",
    "    model = keras.Sequential([ #\n",
    "        keras.layers.Dense(10, input_shape = (784, ), activation = \"sigmoid\") \n",
    "    ])"
   ]
  },
  {
   "cell_type": "code",
   "execution_count": 60,
   "id": "7c3e5f25",
   "metadata": {},
   "outputs": [],
   "source": [
    "model.compile(\n",
    "    optimizer = 'adam',  # Using the Adam optimizer\n",
    "    loss = 'sparse_categorical_crossentropy',  # Using sparse categorical crossentropy loss\n",
    "    metrics = ['accuracy'])  # Tracking accuracy as the metric"
   ]
  },
  {
   "cell_type": "code",
   "execution_count": 61,
   "id": "6687b945",
   "metadata": {},
   "outputs": [
    {
     "name": "stdout",
     "output_type": "stream",
     "text": [
      "600/600 [==============================] - 2s 3ms/step - loss: 1.0207 - accuracy: 0.7400\n",
      "600/600 [==============================] - 2s 3ms/step - loss: 0.5143 - accuracy: 0.8667\n",
      "600/600 [==============================] - 2s 3ms/step - loss: 0.4065 - accuracy: 0.8908\n",
      "600/600 [==============================] - 2s 3ms/step - loss: 0.3559 - accuracy: 0.8992\n",
      "600/600 [==============================] - 2s 3ms/step - loss: 0.2266 - accuracy: 0.9458\n",
      "600/600 [==============================] - 2s 3ms/step - loss: 0.3387 - accuracy: 0.9025\n",
      "600/600 [==============================] - 2s 3ms/step - loss: 0.4304 - accuracy: 0.8792\n",
      "600/600 [==============================] - 2s 3ms/step - loss: 0.3028 - accuracy: 0.9133\n",
      "600/600 [==============================] - 2s 3ms/step - loss: 0.3313 - accuracy: 0.9183\n",
      "600/600 [==============================] - 2s 3ms/step - loss: 0.3248 - accuracy: 0.9075\n",
      "600/600 [==============================] - 2s 3ms/step - loss: 0.2778 - accuracy: 0.9158\n",
      "600/600 [==============================] - 2s 4ms/step - loss: 0.3521 - accuracy: 0.8958\n",
      "600/600 [==============================] - 3s 4ms/step - loss: 0.4167 - accuracy: 0.8842\n",
      "600/600 [==============================] - 3s 5ms/step - loss: 0.3051 - accuracy: 0.9133\n",
      "600/600 [==============================] - 5s 8ms/step - loss: 0.2410 - accuracy: 0.9333\n",
      "600/600 [==============================] - 4s 7ms/step - loss: 0.3774 - accuracy: 0.8900\n",
      "600/600 [==============================] - 3s 4ms/step - loss: 0.3770 - accuracy: 0.8958\n",
      "600/600 [==============================] - 3s 5ms/step - loss: 0.4086 - accuracy: 0.8800\n",
      "600/600 [==============================] - 4s 6ms/step - loss: 0.3324 - accuracy: 0.9050\n",
      "600/600 [==============================] - 4s 6ms/step - loss: 0.3151 - accuracy: 0.9175\n"
     ]
    }
   ],
   "source": [
    "epoch = 20\n",
    "for i in range(epoch):\n",
    "    # Print current epoch number\n",
    "    print(\"Epcoch: {}/{}\".format(i,epoch))\n",
    "    \n",
    "     # Train the model for one epoch using the training generator\n",
    "    history = model.fit(train_generator,steps_per_epoch= len(x_train_flatten)//100)\n",
    "    \n",
    "     # Update metrics dictionary with loss and accuracy values for this epoch\n",
    "    for metric in metrics.keys():\n",
    "        metrics[metric].append(model.history.history[metric][0])"
   ]
  },
  {
   "cell_type": "code",
   "execution_count": 66,
   "id": "8b77b9bc",
   "metadata": {},
   "outputs": [
    {
     "name": "stdout",
     "output_type": "stream",
     "text": [
      "313/313 [==============================] - 1s 3ms/step - loss: 0.3063 - accuracy: 0.9132\n"
     ]
    },
    {
     "data": {
      "text/plain": [
       "[0.3062742054462433, 0.9132000207901001]"
      ]
     },
     "execution_count": 66,
     "metadata": {},
     "output_type": "execute_result"
    }
   ],
   "source": [
    "# Evaluate the model on the test dataset\n",
    "loss, accuracy = model.evaluate(x_test_flatten, y_test)\n",
    "\n",
    "# Print the evaluation results\n",
    "print(\"Test Loss:\", loss)\n",
    "print(\"Test Accuracy:\", accuracy)"
   ]
  },
  {
   "cell_type": "code",
   "execution_count": 67,
   "id": "cb62dcff",
   "metadata": {},
   "outputs": [
    {
     "data": {
      "image/png": "[encoded data removed]",
      "text/plain": [
       "<Figure size 1440x288 with 2 Axes>"
      ]
     },
     "metadata": {
      "needs_background": "light"
     },
     "output_type": "display_data"
    }
   ],
   "source": [
    "# Create a figure with two subplots\n",
    "fig, (ax1, ax2) = plt.subplots(1, 2)\n",
    "fig.set_figwidth(20)\n",
    "\n",
    "# Plot loss vs iteration on the first subplot\n",
    "ax1.plot(metrics['loss'])\n",
    "ax1.title.set_text(\"Loss vs Iteration\")\n",
    "ax1.set_ylabel(\"Loss\")\n",
    "ax1.set_xlabel(\"Iteration\")\n",
    "\n",
    "\n",
    "# Plot accuracy vs iteration on the second subplo\n",
    "ax2.plot(metrics['accuracy'])\n",
    "ax2.title.set_text(\"Accuracy vs Iteration\")\n",
    "ax2.set_ylabel(\"Accuracy\")\n",
    "ax2.set_xlabel(\"Iteration\")\n",
    "\n",
    "# Display the plots\n",
    "plt.show()"
   ]
  },
  {
   "cell_type": "code",
   "execution_count": null,
   "id": "50d86c91",
   "metadata": {},
   "outputs": [],
   "source": [
    "\n"
   ]
  }
 ],
 "metadata": {
  "kernelspec": {
   "display_name": "gpu",
   "language": "python",
   "name": "gpu"
  },
  "language_info": {
   "codemirror_mode": {
    "name": "ipython",
    "version": 3
   },
   "file_extension": ".py",
   "mimetype": "text/x-python",
   "name": "python",
   "nbconvert_exporter": "python",
   "pygments_lexer": "ipython3",
   "version": "3.9.15"
  }
 },
 "nbformat": 4,
 "nbformat_minor": 5
}
